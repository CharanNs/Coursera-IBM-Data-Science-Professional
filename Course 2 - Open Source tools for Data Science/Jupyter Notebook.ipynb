{
 "cells": [
  {
   "cell_type": "markdown",
   "metadata": {
    "collapsed": true
   },
   "source": [
    "# Jupyter Notebooks on IBM Watson Studio"
   ]
  },
  {
   "cell_type": "markdown",
   "metadata": {},
   "source": [
    "**N S Charan Reddy**  \n",
    "STUDENT"
   ]
  },
  {
   "cell_type": "markdown",
   "metadata": {},
   "source": [
    "*I am intersted in data science because,i believe that \"data is the new oil\".Data Science is the sexiest job in the 21 st century.Over the past few years, companies have been storing their data. And this being done by each and every company, it has suddenly led to data explosion. Data has become the most abundant thing today.*"
   ]
  },
  {
   "cell_type": "markdown",
   "metadata": {},
   "source": [
    "### python"
   ]
  },
  {
   "cell_type": "code",
   "execution_count": 2,
   "metadata": {},
   "outputs": [
    {
     "name": "stdout",
     "output_type": "stream",
     "text": [
      "hello world\n"
     ]
    }
   ],
   "source": [
    "x=\"hello world\"\n",
    "print(x)"
   ]
  },
  {
   "cell_type": "markdown",
   "metadata": {},
   "source": [
    "https://github.com/adam-p/markdown-here/raw/master/src/common/images/icon48.png  \n",
    "[I'm an inline-style link](https://www.google.com)\n",
    "\n",
    "http://www.example.com   \n",
    "<http://www.gmail.com>\n",
    "\n",
    "~~Striked text.~~\n",
    "\n",
    "Markdown | Less | Pretty\n",
    "--- | --- | ---\n",
    "*Still* | `renders` | **nicely**\n",
    "1 | 2 | 3\n",
    "  \n",
    "\n",
    " \n",
    " * Unordered sub-list.   \n",
    "1. Actual numbers don't matter, just that it's a number  \n",
    "2. Ordered sub-list\n",
    "3. And another item.\n",
    "\n",
    "\n",
    "\n",
    "* Unordered list can use asterisks\n",
    "- Or minuses\n",
    "+ Or pluses\n",
    "\n",
    "Reference-style: \n",
    "![alt text][logo]\n",
    "\n",
    "[logo]: https://github.com/adam-p/markdown-here/raw/master/src/common/images/icon48.png \"Logo Title Text 2\"  \n",
    "\n",
    "\n",
    "\n",
    "```python\n",
    "s = \"Python syntax highlighting\"\n",
    "print s\n",
    "```\n",
    "\n",
    "> Blockquotes are very handy in email to emulate reply text.\n",
    "> This line is part of the same quote.\n",
    "\n",
    "Quote break.\n",
    "> This is a very long line that will still be quoted properly when it wraps. Oh boy let's keep writing to make sure this is long enough to actually wrap for everyone. Oh, you can *put* **Markdown** into a blockquote.\n",
    "\n",
    "\n",
    "\n",
    "<dl>\n",
    "  <dt>Definition list</dt>\n",
    "  <dd>Is something people use sometimes.</dd>\n",
    "\n",
    "  <dt>Markdown in HTML</dt>\n",
    "  <dd>Does *not* work **very** well. Use HTML <em>tags</em>.</dd>\n",
    "</dl>\n",
    "\n",
    "\n",
    "Here's a line for us to start with.\n",
    "\n",
    "This line is separated from the one above by two newlines, so it will be a *separate paragraph*.\n",
    "\n",
    "This line is also a separate paragraph, but...\n",
    "This line is only separated by a single newline, so it's a separate line in the *same paragraph*."
   ]
  }
 ],
 "metadata": {
  "kernelspec": {
   "display_name": "Python 3",
   "language": "python",
   "name": "python3"
  },
  "language_info": {
   "codemirror_mode": {
    "name": "ipython",
    "version": 3
   },
   "file_extension": ".py",
   "mimetype": "text/x-python",
   "name": "python",
   "nbconvert_exporter": "python",
   "pygments_lexer": "ipython3",
   "version": "3.7.3"
  }
 },
 "nbformat": 4,
 "nbformat_minor": 1
}
